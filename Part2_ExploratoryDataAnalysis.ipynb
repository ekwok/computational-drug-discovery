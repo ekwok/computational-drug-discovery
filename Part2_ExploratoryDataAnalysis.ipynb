{
 "cells": [
  {
   "cell_type": "markdown",
   "metadata": {},
   "source": [
    "# Part 2 - Exploratory Data Analysis\n",
    "Eric Kwok\n",
    "\n",
    "This notebook is based on [Bioinformatics Project - Computational Drug Discovery [Part 2] Exploratory Data Analysis](https://github.com/dataprofessor/code/blob/master/python/CDD_ML_Part_2_Exploratory_Data_Analysis.ipynb) by Chanin Nantasenamat\n",
    "\n",
    "---\n",
    "\n",
    "## Install rdkit\n",
    "rdkit is a package we need to calculate molecular descriptors of compounds."
   ]
  },
  {
   "cell_type": "code",
   "execution_count": 1,
   "metadata": {},
   "outputs": [
    {
     "name": "stdout",
     "output_type": "stream",
     "text": [
      "Collecting package metadata (current_repodata.json): done\n",
      "Solving environment: - \n",
      "Warning: 4 possible package resolutions (only showing differing packages):\n",
      "  - anaconda/osx-64::ca-certificates-2020.10.14-0, anaconda/osx-64::openssl-1.1.1h-haf1e3a3_0\n",
      "  - anaconda/osx-64::openssl-1.1.1h-haf1e3a3_0, defaults/osx-64::ca-certificates-2020.10.14-0\n",
      "  - anaconda/osx-64::ca-certificates-2020.10.14-0, defaults/osx-64::openssl-1.1.1h-haf1e3a3_0\n",
      "  - defaults/osx-64::ca-certificates-2020.10.14-0, defaults/osx-64::openssl-1.1.1h-haf1e3a3done\n",
      "\n",
      "## Package Plan ##\n",
      "\n",
      "  environment location: /Users/erickwok/opt/anaconda3\n",
      "\n",
      "  added / updated specs:\n",
      "    - rdkit\n",
      "\n",
      "\n",
      "The following packages will be UPDATED:\n",
      "\n",
      "  certifi                anaconda::certifi-2020.6.20-py37_0 --> pkgs/main::certifi-2020.11.8-py37hecd8cb5_0\n",
      "\n",
      "\n",
      "Preparing transaction: done\n",
      "Verifying transaction: done\n",
      "Executing transaction: done\n"
     ]
    }
   ],
   "source": [
    "! conda install -c rdkit rdkit -y"
   ]
  },
  {
   "cell_type": "markdown",
   "metadata": {},
   "source": [
    "## Load Bioactivity Data"
   ]
  },
  {
   "cell_type": "code",
   "execution_count": 2,
   "metadata": {},
   "outputs": [],
   "source": [
    "import pandas as pd\n",
    "df = pd.read_csv('influenza_a_preprocessed.csv')"
   ]
  },
  {
   "cell_type": "markdown",
   "metadata": {},
   "source": [
    "## Calculate Lipinski Descriptors\n",
    "Christopher Lipinski, a scientist at Pfizer, came up with a set of rules for evaluating the **druglikeness** (how \"druglike\" a substance is) of compounds. This druglikeness is based on the Absorption, Distribution, Metabolism, and Excretion (ADME) that is also known as the pharmacokinetic profile. Lipinski analyzed all orally active FDA-approved drugs in the formulation of what is known to be the **Rule-of_Five** or **Lipinski's Rule**.\n",
    "\n",
    "The Lipinski's Rule stated the following:\n",
    "- Molecular weight < 500 Daltons\n",
    "- Octanol-water partition coefficient (LogP) < 5\n",
    "- Hydrogen bond donors < 5\n",
    "- Hydrogen bond acceptors < 10\n",
    "\n",
    "### Import Libraries"
   ]
  },
  {
   "cell_type": "code",
   "execution_count": 3,
   "metadata": {},
   "outputs": [],
   "source": [
    "import numpy as np\n",
    "from rdkit import Chem\n",
    "from rdkit.Chem import Descriptors, Lipinski"
   ]
  },
  {
   "cell_type": "markdown",
   "metadata": {},
   "source": [
    "### Calculate Descriptors"
   ]
  },
  {
   "cell_type": "code",
   "execution_count": 4,
   "metadata": {},
   "outputs": [],
   "source": [
    "# Inspired by: https://codeocean.com/explore/capsules?query=tag:data-curation\n",
    "\n",
    "def lipinski(smiles, verbose=False):\n",
    "    \n",
    "    mol_data = []\n",
    "    for elem in smiles:\n",
    "        mol = Chem.MolFromSmiles(elem)\n",
    "        mol_data.append(mol)\n",
    "        \n",
    "    base_data = np.empty(0)\n",
    "    i = 0\n",
    "    for mol in mol_data:\n",
    "        desc_MolWt = Descriptors.MolWt(mol)\n",
    "        desc_MolLogP = Descriptors.MolLogP(mol)\n",
    "        desc_NumHDonors = Lipinski.NumHDonors(mol)\n",
    "        desc_NumHAcceptors = Lipinski.NumHAcceptors(mol)\n",
    "        \n",
    "        row = np.array([desc_MolWt,\n",
    "                       desc_MolLogP,\n",
    "                       desc_NumHDonors,\n",
    "                       desc_NumHAcceptors])\n",
    "        \n",
    "        if i == 0:\n",
    "            base_data = row\n",
    "        else:\n",
    "            base_data = np.vstack([base_data, row])\n",
    "            \n",
    "        i += 1\n",
    "        \n",
    "    column_names = ['MW', 'LogP', 'NumHDonors', 'NumHAcceptors']\n",
    "    descriptors = pd.DataFrame(data=base_data, columns=column_names)\n",
    "    \n",
    "    return descriptors"
   ]
  },
  {
   "cell_type": "code",
   "execution_count": 5,
   "metadata": {},
   "outputs": [],
   "source": [
    "df_lipinski = lipinski(df.canonical_smiles)"
   ]
  },
  {
   "cell_type": "markdown",
   "metadata": {},
   "source": [
    "### Combine DataFrames\n",
    "The 2 DataFrames that will be combined:"
   ]
  },
  {
   "cell_type": "code",
   "execution_count": 6,
   "metadata": {},
   "outputs": [
    {
     "data": {
      "text/html": [
       "<div>\n",
       "<style scoped>\n",
       "    .dataframe tbody tr th:only-of-type {\n",
       "        vertical-align: middle;\n",
       "    }\n",
       "\n",
       "    .dataframe tbody tr th {\n",
       "        vertical-align: top;\n",
       "    }\n",
       "\n",
       "    .dataframe thead th {\n",
       "        text-align: right;\n",
       "    }\n",
       "</style>\n",
       "<table border=\"1\" class=\"dataframe\">\n",
       "  <thead>\n",
       "    <tr style=\"text-align: right;\">\n",
       "      <th></th>\n",
       "      <th>MW</th>\n",
       "      <th>LogP</th>\n",
       "      <th>NumHDonors</th>\n",
       "      <th>NumHAcceptors</th>\n",
       "    </tr>\n",
       "  </thead>\n",
       "  <tbody>\n",
       "    <tr>\n",
       "      <th>0</th>\n",
       "      <td>252.226</td>\n",
       "      <td>0.2740</td>\n",
       "      <td>4.0</td>\n",
       "      <td>4.0</td>\n",
       "    </tr>\n",
       "    <tr>\n",
       "      <th>1</th>\n",
       "      <td>252.226</td>\n",
       "      <td>0.2740</td>\n",
       "      <td>4.0</td>\n",
       "      <td>4.0</td>\n",
       "    </tr>\n",
       "    <tr>\n",
       "      <th>2</th>\n",
       "      <td>240.171</td>\n",
       "      <td>0.9570</td>\n",
       "      <td>3.0</td>\n",
       "      <td>5.0</td>\n",
       "    </tr>\n",
       "    <tr>\n",
       "      <th>3</th>\n",
       "      <td>240.171</td>\n",
       "      <td>0.9570</td>\n",
       "      <td>3.0</td>\n",
       "      <td>5.0</td>\n",
       "    </tr>\n",
       "    <tr>\n",
       "      <th>4</th>\n",
       "      <td>282.208</td>\n",
       "      <td>1.1767</td>\n",
       "      <td>2.0</td>\n",
       "      <td>6.0</td>\n",
       "    </tr>\n",
       "    <tr>\n",
       "      <th>...</th>\n",
       "      <td>...</td>\n",
       "      <td>...</td>\n",
       "      <td>...</td>\n",
       "      <td>...</td>\n",
       "    </tr>\n",
       "    <tr>\n",
       "      <th>1586</th>\n",
       "      <td>869.106</td>\n",
       "      <td>5.8766</td>\n",
       "      <td>3.0</td>\n",
       "      <td>12.0</td>\n",
       "    </tr>\n",
       "    <tr>\n",
       "      <th>1587</th>\n",
       "      <td>758.994</td>\n",
       "      <td>3.2791</td>\n",
       "      <td>7.0</td>\n",
       "      <td>10.0</td>\n",
       "    </tr>\n",
       "    <tr>\n",
       "      <th>1588</th>\n",
       "      <td>742.995</td>\n",
       "      <td>4.1642</td>\n",
       "      <td>6.0</td>\n",
       "      <td>9.0</td>\n",
       "    </tr>\n",
       "    <tr>\n",
       "      <th>1589</th>\n",
       "      <td>368.385</td>\n",
       "      <td>3.3699</td>\n",
       "      <td>2.0</td>\n",
       "      <td>6.0</td>\n",
       "    </tr>\n",
       "    <tr>\n",
       "      <th>1590</th>\n",
       "      <td>371.487</td>\n",
       "      <td>2.9954</td>\n",
       "      <td>2.0</td>\n",
       "      <td>6.0</td>\n",
       "    </tr>\n",
       "  </tbody>\n",
       "</table>\n",
       "<p>1591 rows × 4 columns</p>\n",
       "</div>"
      ],
      "text/plain": [
       "           MW    LogP  NumHDonors  NumHAcceptors\n",
       "0     252.226  0.2740         4.0            4.0\n",
       "1     252.226  0.2740         4.0            4.0\n",
       "2     240.171  0.9570         3.0            5.0\n",
       "3     240.171  0.9570         3.0            5.0\n",
       "4     282.208  1.1767         2.0            6.0\n",
       "...       ...     ...         ...            ...\n",
       "1586  869.106  5.8766         3.0           12.0\n",
       "1587  758.994  3.2791         7.0           10.0\n",
       "1588  742.995  4.1642         6.0            9.0\n",
       "1589  368.385  3.3699         2.0            6.0\n",
       "1590  371.487  2.9954         2.0            6.0\n",
       "\n",
       "[1591 rows x 4 columns]"
      ]
     },
     "execution_count": 6,
     "metadata": {},
     "output_type": "execute_result"
    }
   ],
   "source": [
    "df_lipinski"
   ]
  },
  {
   "cell_type": "code",
   "execution_count": 7,
   "metadata": {},
   "outputs": [
    {
     "data": {
      "text/html": [
       "<div>\n",
       "<style scoped>\n",
       "    .dataframe tbody tr th:only-of-type {\n",
       "        vertical-align: middle;\n",
       "    }\n",
       "\n",
       "    .dataframe tbody tr th {\n",
       "        vertical-align: top;\n",
       "    }\n",
       "\n",
       "    .dataframe thead th {\n",
       "        text-align: right;\n",
       "    }\n",
       "</style>\n",
       "<table border=\"1\" class=\"dataframe\">\n",
       "  <thead>\n",
       "    <tr style=\"text-align: right;\">\n",
       "      <th></th>\n",
       "      <th>molecule_chembl_id</th>\n",
       "      <th>canonical_smiles</th>\n",
       "      <th>standard_value</th>\n",
       "      <th>bioactivity_class</th>\n",
       "    </tr>\n",
       "  </thead>\n",
       "  <tbody>\n",
       "    <tr>\n",
       "      <th>0</th>\n",
       "      <td>CHEMBL327097</td>\n",
       "      <td>CC(=O)Nc1ccc(C(=O)O)cc1NC(=O)CO</td>\n",
       "      <td>4000000.0</td>\n",
       "      <td>inactive</td>\n",
       "    </tr>\n",
       "    <tr>\n",
       "      <th>1</th>\n",
       "      <td>CHEMBL327097</td>\n",
       "      <td>CC(=O)Nc1ccc(C(=O)O)cc1NC(=O)CO</td>\n",
       "      <td>10000000.0</td>\n",
       "      <td>inactive</td>\n",
       "    </tr>\n",
       "    <tr>\n",
       "      <th>2</th>\n",
       "      <td>CHEMBL324455</td>\n",
       "      <td>CC(=O)Nc1c(O)cc(C(=O)O)cc1[N+](=O)[O-]</td>\n",
       "      <td>750000.0</td>\n",
       "      <td>inactive</td>\n",
       "    </tr>\n",
       "    <tr>\n",
       "      <th>3</th>\n",
       "      <td>CHEMBL324455</td>\n",
       "      <td>CC(=O)Nc1c(O)cc(C(=O)O)cc1[N+](=O)[O-]</td>\n",
       "      <td>1000000.0</td>\n",
       "      <td>inactive</td>\n",
       "    </tr>\n",
       "    <tr>\n",
       "      <th>4</th>\n",
       "      <td>CHEMBL321393</td>\n",
       "      <td>CC(=O)Nc1c(OC(C)=O)cc(C(=O)O)cc1[N+](=O)[O-]</td>\n",
       "      <td>5000000.0</td>\n",
       "      <td>inactive</td>\n",
       "    </tr>\n",
       "    <tr>\n",
       "      <th>...</th>\n",
       "      <td>...</td>\n",
       "      <td>...</td>\n",
       "      <td>...</td>\n",
       "      <td>...</td>\n",
       "    </tr>\n",
       "    <tr>\n",
       "      <th>1586</th>\n",
       "      <td>CHEMBL4286184</td>\n",
       "      <td>C=C(C)[C@@H]1CC[C@]2(C(=O)N[C@H]3C=C(C(=O)OC)O...</td>\n",
       "      <td>100000.0</td>\n",
       "      <td>inactive</td>\n",
       "    </tr>\n",
       "    <tr>\n",
       "      <th>1587</th>\n",
       "      <td>CHEMBL4294084</td>\n",
       "      <td>COC(=O)C1=C[C@H](NC(=O)[C@]23CCC(C)(C)C[C@H]2C...</td>\n",
       "      <td>40500.0</td>\n",
       "      <td>inactive</td>\n",
       "    </tr>\n",
       "    <tr>\n",
       "      <th>1588</th>\n",
       "      <td>CHEMBL4282791</td>\n",
       "      <td>C=C(C)[C@@H]1CC[C@]2(C(=O)N[C@H]3C=C(C(=O)OC)O...</td>\n",
       "      <td>100000.0</td>\n",
       "      <td>inactive</td>\n",
       "    </tr>\n",
       "    <tr>\n",
       "      <th>1589</th>\n",
       "      <td>CHEMBL140</td>\n",
       "      <td>COc1cc(/C=C/C(=O)CC(=O)/C=C/c2ccc(O)c(OC)c2)ccc1O</td>\n",
       "      <td>6700.0</td>\n",
       "      <td>intermediate</td>\n",
       "    </tr>\n",
       "    <tr>\n",
       "      <th>1590</th>\n",
       "      <td>CHEMBL4286137</td>\n",
       "      <td>C=C[C@@H](O)Cc1nsc(C2=CCCS[C@]23C(=O)Nc2ccccc2...</td>\n",
       "      <td>33300.0</td>\n",
       "      <td>inactive</td>\n",
       "    </tr>\n",
       "  </tbody>\n",
       "</table>\n",
       "<p>1591 rows × 4 columns</p>\n",
       "</div>"
      ],
      "text/plain": [
       "     molecule_chembl_id                                   canonical_smiles  \\\n",
       "0          CHEMBL327097                    CC(=O)Nc1ccc(C(=O)O)cc1NC(=O)CO   \n",
       "1          CHEMBL327097                    CC(=O)Nc1ccc(C(=O)O)cc1NC(=O)CO   \n",
       "2          CHEMBL324455             CC(=O)Nc1c(O)cc(C(=O)O)cc1[N+](=O)[O-]   \n",
       "3          CHEMBL324455             CC(=O)Nc1c(O)cc(C(=O)O)cc1[N+](=O)[O-]   \n",
       "4          CHEMBL321393       CC(=O)Nc1c(OC(C)=O)cc(C(=O)O)cc1[N+](=O)[O-]   \n",
       "...                 ...                                                ...   \n",
       "1586      CHEMBL4286184  C=C(C)[C@@H]1CC[C@]2(C(=O)N[C@H]3C=C(C(=O)OC)O...   \n",
       "1587      CHEMBL4294084  COC(=O)C1=C[C@H](NC(=O)[C@]23CCC(C)(C)C[C@H]2C...   \n",
       "1588      CHEMBL4282791  C=C(C)[C@@H]1CC[C@]2(C(=O)N[C@H]3C=C(C(=O)OC)O...   \n",
       "1589          CHEMBL140  COc1cc(/C=C/C(=O)CC(=O)/C=C/c2ccc(O)c(OC)c2)ccc1O   \n",
       "1590      CHEMBL4286137  C=C[C@@H](O)Cc1nsc(C2=CCCS[C@]23C(=O)Nc2ccccc2...   \n",
       "\n",
       "      standard_value bioactivity_class  \n",
       "0          4000000.0          inactive  \n",
       "1         10000000.0          inactive  \n",
       "2           750000.0          inactive  \n",
       "3          1000000.0          inactive  \n",
       "4          5000000.0          inactive  \n",
       "...              ...               ...  \n",
       "1586        100000.0          inactive  \n",
       "1587         40500.0          inactive  \n",
       "1588        100000.0          inactive  \n",
       "1589          6700.0      intermediate  \n",
       "1590         33300.0          inactive  \n",
       "\n",
       "[1591 rows x 4 columns]"
      ]
     },
     "execution_count": 7,
     "metadata": {},
     "output_type": "execute_result"
    }
   ],
   "source": [
    "df"
   ]
  },
  {
   "cell_type": "markdown",
   "metadata": {},
   "source": [
    "Combine the 2 DataFrames:"
   ]
  },
  {
   "cell_type": "code",
   "execution_count": 8,
   "metadata": {},
   "outputs": [],
   "source": [
    "df_combined = pd.concat([df, df_lipinski], axis=1)"
   ]
  },
  {
   "cell_type": "markdown",
   "metadata": {},
   "source": [
    "### Convert IC50 to pIC50\n",
    "To allow **IC50** data to be more uniformly distributed, we will convert them to the negative logarithmic scale, which is essentially **-log10(IC50)**.\n",
    "\n",
    "This custom function pIC50() will accept a DataFrame as input and will:\n",
    "- Take the IC50 values from the `standard_value` column and converts it from nM to M by multiplying the value by 10<sup>-9</sup>\n",
    "- Take the molar value and apply -log10\n",
    "- Delete the `standard_value` column and create a new `pIC50` column"
   ]
  },
  {
   "cell_type": "code",
   "execution_count": 9,
   "metadata": {},
   "outputs": [],
   "source": [
    "# https://github.com/chaninlab/estrogen-receptor-alpha-qsar/blob/master/02_ER_alpha_RO5.ipynb\n",
    "\n",
    "def pIC50(df):\n",
    "    pIC50 = []\n",
    "    \n",
    "    for i in df['standard_value']:\n",
    "        molar = i * (10**-9)  # Converts nM to M\n",
    "        pIC50.append(-np.log10(molar))\n",
    "        \n",
    "    df['pIC50'] = pIC50\n",
    "    x = df.drop('standard_value', 1)\n",
    "    \n",
    "    return x"
   ]
  },
  {
   "cell_type": "code",
   "execution_count": 10,
   "metadata": {},
   "outputs": [
    {
     "data": {
      "text/html": [
       "<div>\n",
       "<style scoped>\n",
       "    .dataframe tbody tr th:only-of-type {\n",
       "        vertical-align: middle;\n",
       "    }\n",
       "\n",
       "    .dataframe tbody tr th {\n",
       "        vertical-align: top;\n",
       "    }\n",
       "\n",
       "    .dataframe thead th {\n",
       "        text-align: right;\n",
       "    }\n",
       "</style>\n",
       "<table border=\"1\" class=\"dataframe\">\n",
       "  <thead>\n",
       "    <tr style=\"text-align: right;\">\n",
       "      <th></th>\n",
       "      <th>molecule_chembl_id</th>\n",
       "      <th>canonical_smiles</th>\n",
       "      <th>bioactivity_class</th>\n",
       "      <th>MW</th>\n",
       "      <th>LogP</th>\n",
       "      <th>NumHDonors</th>\n",
       "      <th>NumHAcceptors</th>\n",
       "      <th>pIC50</th>\n",
       "    </tr>\n",
       "  </thead>\n",
       "  <tbody>\n",
       "    <tr>\n",
       "      <th>0</th>\n",
       "      <td>CHEMBL327097</td>\n",
       "      <td>CC(=O)Nc1ccc(C(=O)O)cc1NC(=O)CO</td>\n",
       "      <td>inactive</td>\n",
       "      <td>252.226</td>\n",
       "      <td>0.2740</td>\n",
       "      <td>4.0</td>\n",
       "      <td>4.0</td>\n",
       "      <td>2.397940</td>\n",
       "    </tr>\n",
       "    <tr>\n",
       "      <th>1</th>\n",
       "      <td>CHEMBL327097</td>\n",
       "      <td>CC(=O)Nc1ccc(C(=O)O)cc1NC(=O)CO</td>\n",
       "      <td>inactive</td>\n",
       "      <td>252.226</td>\n",
       "      <td>0.2740</td>\n",
       "      <td>4.0</td>\n",
       "      <td>4.0</td>\n",
       "      <td>2.000000</td>\n",
       "    </tr>\n",
       "    <tr>\n",
       "      <th>2</th>\n",
       "      <td>CHEMBL324455</td>\n",
       "      <td>CC(=O)Nc1c(O)cc(C(=O)O)cc1[N+](=O)[O-]</td>\n",
       "      <td>inactive</td>\n",
       "      <td>240.171</td>\n",
       "      <td>0.9570</td>\n",
       "      <td>3.0</td>\n",
       "      <td>5.0</td>\n",
       "      <td>3.124939</td>\n",
       "    </tr>\n",
       "    <tr>\n",
       "      <th>3</th>\n",
       "      <td>CHEMBL324455</td>\n",
       "      <td>CC(=O)Nc1c(O)cc(C(=O)O)cc1[N+](=O)[O-]</td>\n",
       "      <td>inactive</td>\n",
       "      <td>240.171</td>\n",
       "      <td>0.9570</td>\n",
       "      <td>3.0</td>\n",
       "      <td>5.0</td>\n",
       "      <td>3.000000</td>\n",
       "    </tr>\n",
       "    <tr>\n",
       "      <th>4</th>\n",
       "      <td>CHEMBL321393</td>\n",
       "      <td>CC(=O)Nc1c(OC(C)=O)cc(C(=O)O)cc1[N+](=O)[O-]</td>\n",
       "      <td>inactive</td>\n",
       "      <td>282.208</td>\n",
       "      <td>1.1767</td>\n",
       "      <td>2.0</td>\n",
       "      <td>6.0</td>\n",
       "      <td>2.301030</td>\n",
       "    </tr>\n",
       "    <tr>\n",
       "      <th>...</th>\n",
       "      <td>...</td>\n",
       "      <td>...</td>\n",
       "      <td>...</td>\n",
       "      <td>...</td>\n",
       "      <td>...</td>\n",
       "      <td>...</td>\n",
       "      <td>...</td>\n",
       "      <td>...</td>\n",
       "    </tr>\n",
       "    <tr>\n",
       "      <th>1586</th>\n",
       "      <td>CHEMBL4286184</td>\n",
       "      <td>C=C(C)[C@@H]1CC[C@]2(C(=O)N[C@H]3C=C(C(=O)OC)O...</td>\n",
       "      <td>inactive</td>\n",
       "      <td>869.106</td>\n",
       "      <td>5.8766</td>\n",
       "      <td>3.0</td>\n",
       "      <td>12.0</td>\n",
       "      <td>4.000000</td>\n",
       "    </tr>\n",
       "    <tr>\n",
       "      <th>1587</th>\n",
       "      <td>CHEMBL4294084</td>\n",
       "      <td>COC(=O)C1=C[C@H](NC(=O)[C@]23CCC(C)(C)C[C@H]2C...</td>\n",
       "      <td>inactive</td>\n",
       "      <td>758.994</td>\n",
       "      <td>3.2791</td>\n",
       "      <td>7.0</td>\n",
       "      <td>10.0</td>\n",
       "      <td>4.392545</td>\n",
       "    </tr>\n",
       "    <tr>\n",
       "      <th>1588</th>\n",
       "      <td>CHEMBL4282791</td>\n",
       "      <td>C=C(C)[C@@H]1CC[C@]2(C(=O)N[C@H]3C=C(C(=O)OC)O...</td>\n",
       "      <td>inactive</td>\n",
       "      <td>742.995</td>\n",
       "      <td>4.1642</td>\n",
       "      <td>6.0</td>\n",
       "      <td>9.0</td>\n",
       "      <td>4.000000</td>\n",
       "    </tr>\n",
       "    <tr>\n",
       "      <th>1589</th>\n",
       "      <td>CHEMBL140</td>\n",
       "      <td>COc1cc(/C=C/C(=O)CC(=O)/C=C/c2ccc(O)c(OC)c2)ccc1O</td>\n",
       "      <td>intermediate</td>\n",
       "      <td>368.385</td>\n",
       "      <td>3.3699</td>\n",
       "      <td>2.0</td>\n",
       "      <td>6.0</td>\n",
       "      <td>5.173925</td>\n",
       "    </tr>\n",
       "    <tr>\n",
       "      <th>1590</th>\n",
       "      <td>CHEMBL4286137</td>\n",
       "      <td>C=C[C@@H](O)Cc1nsc(C2=CCCS[C@]23C(=O)Nc2ccccc2...</td>\n",
       "      <td>inactive</td>\n",
       "      <td>371.487</td>\n",
       "      <td>2.9954</td>\n",
       "      <td>2.0</td>\n",
       "      <td>6.0</td>\n",
       "      <td>4.477556</td>\n",
       "    </tr>\n",
       "  </tbody>\n",
       "</table>\n",
       "<p>1591 rows × 8 columns</p>\n",
       "</div>"
      ],
      "text/plain": [
       "     molecule_chembl_id                                   canonical_smiles  \\\n",
       "0          CHEMBL327097                    CC(=O)Nc1ccc(C(=O)O)cc1NC(=O)CO   \n",
       "1          CHEMBL327097                    CC(=O)Nc1ccc(C(=O)O)cc1NC(=O)CO   \n",
       "2          CHEMBL324455             CC(=O)Nc1c(O)cc(C(=O)O)cc1[N+](=O)[O-]   \n",
       "3          CHEMBL324455             CC(=O)Nc1c(O)cc(C(=O)O)cc1[N+](=O)[O-]   \n",
       "4          CHEMBL321393       CC(=O)Nc1c(OC(C)=O)cc(C(=O)O)cc1[N+](=O)[O-]   \n",
       "...                 ...                                                ...   \n",
       "1586      CHEMBL4286184  C=C(C)[C@@H]1CC[C@]2(C(=O)N[C@H]3C=C(C(=O)OC)O...   \n",
       "1587      CHEMBL4294084  COC(=O)C1=C[C@H](NC(=O)[C@]23CCC(C)(C)C[C@H]2C...   \n",
       "1588      CHEMBL4282791  C=C(C)[C@@H]1CC[C@]2(C(=O)N[C@H]3C=C(C(=O)OC)O...   \n",
       "1589          CHEMBL140  COc1cc(/C=C/C(=O)CC(=O)/C=C/c2ccc(O)c(OC)c2)ccc1O   \n",
       "1590      CHEMBL4286137  C=C[C@@H](O)Cc1nsc(C2=CCCS[C@]23C(=O)Nc2ccccc2...   \n",
       "\n",
       "     bioactivity_class       MW    LogP  NumHDonors  NumHAcceptors     pIC50  \n",
       "0             inactive  252.226  0.2740         4.0            4.0  2.397940  \n",
       "1             inactive  252.226  0.2740         4.0            4.0  2.000000  \n",
       "2             inactive  240.171  0.9570         3.0            5.0  3.124939  \n",
       "3             inactive  240.171  0.9570         3.0            5.0  3.000000  \n",
       "4             inactive  282.208  1.1767         2.0            6.0  2.301030  \n",
       "...                ...      ...     ...         ...            ...       ...  \n",
       "1586          inactive  869.106  5.8766         3.0           12.0  4.000000  \n",
       "1587          inactive  758.994  3.2791         7.0           10.0  4.392545  \n",
       "1588          inactive  742.995  4.1642         6.0            9.0  4.000000  \n",
       "1589      intermediate  368.385  3.3699         2.0            6.0  5.173925  \n",
       "1590          inactive  371.487  2.9954         2.0            6.0  4.477556  \n",
       "\n",
       "[1591 rows x 8 columns]"
      ]
     },
     "execution_count": 10,
     "metadata": {},
     "output_type": "execute_result"
    }
   ],
   "source": [
    "df_final = pIC50(df_combined)\n",
    "df_final"
   ]
  },
  {
   "cell_type": "code",
   "execution_count": 11,
   "metadata": {},
   "outputs": [
    {
     "data": {
      "text/plain": [
       "count    1591.000000\n",
       "mean        6.523807\n",
       "std         2.188138\n",
       "min         2.000000\n",
       "25%         4.698970\n",
       "50%         6.045757\n",
       "75%         8.414576\n",
       "max        14.000000\n",
       "Name: pIC50, dtype: float64"
      ]
     },
     "execution_count": 11,
     "metadata": {},
     "output_type": "execute_result"
    }
   ],
   "source": [
    "df_final.pIC50.describe()"
   ]
  },
  {
   "cell_type": "code",
   "execution_count": 12,
   "metadata": {},
   "outputs": [],
   "source": [
    "df_final.to_csv('influenza_a_pIC50.csv', index=False)"
   ]
  },
  {
   "cell_type": "markdown",
   "metadata": {},
   "source": [
    "### Remove the \"intermediate\" bioactivity class\n",
    "Here, we will remove the \"intermediate\" class from our dataset."
   ]
  },
  {
   "cell_type": "code",
   "execution_count": 13,
   "metadata": {},
   "outputs": [
    {
     "data": {
      "text/html": [
       "<div>\n",
       "<style scoped>\n",
       "    .dataframe tbody tr th:only-of-type {\n",
       "        vertical-align: middle;\n",
       "    }\n",
       "\n",
       "    .dataframe tbody tr th {\n",
       "        vertical-align: top;\n",
       "    }\n",
       "\n",
       "    .dataframe thead th {\n",
       "        text-align: right;\n",
       "    }\n",
       "</style>\n",
       "<table border=\"1\" class=\"dataframe\">\n",
       "  <thead>\n",
       "    <tr style=\"text-align: right;\">\n",
       "      <th></th>\n",
       "      <th>molecule_chembl_id</th>\n",
       "      <th>canonical_smiles</th>\n",
       "      <th>bioactivity_class</th>\n",
       "      <th>MW</th>\n",
       "      <th>LogP</th>\n",
       "      <th>NumHDonors</th>\n",
       "      <th>NumHAcceptors</th>\n",
       "      <th>pIC50</th>\n",
       "    </tr>\n",
       "  </thead>\n",
       "  <tbody>\n",
       "    <tr>\n",
       "      <th>0</th>\n",
       "      <td>CHEMBL327097</td>\n",
       "      <td>CC(=O)Nc1ccc(C(=O)O)cc1NC(=O)CO</td>\n",
       "      <td>inactive</td>\n",
       "      <td>252.226</td>\n",
       "      <td>0.2740</td>\n",
       "      <td>4.0</td>\n",
       "      <td>4.0</td>\n",
       "      <td>2.397940</td>\n",
       "    </tr>\n",
       "    <tr>\n",
       "      <th>1</th>\n",
       "      <td>CHEMBL327097</td>\n",
       "      <td>CC(=O)Nc1ccc(C(=O)O)cc1NC(=O)CO</td>\n",
       "      <td>inactive</td>\n",
       "      <td>252.226</td>\n",
       "      <td>0.2740</td>\n",
       "      <td>4.0</td>\n",
       "      <td>4.0</td>\n",
       "      <td>2.000000</td>\n",
       "    </tr>\n",
       "    <tr>\n",
       "      <th>2</th>\n",
       "      <td>CHEMBL324455</td>\n",
       "      <td>CC(=O)Nc1c(O)cc(C(=O)O)cc1[N+](=O)[O-]</td>\n",
       "      <td>inactive</td>\n",
       "      <td>240.171</td>\n",
       "      <td>0.9570</td>\n",
       "      <td>3.0</td>\n",
       "      <td>5.0</td>\n",
       "      <td>3.124939</td>\n",
       "    </tr>\n",
       "    <tr>\n",
       "      <th>3</th>\n",
       "      <td>CHEMBL324455</td>\n",
       "      <td>CC(=O)Nc1c(O)cc(C(=O)O)cc1[N+](=O)[O-]</td>\n",
       "      <td>inactive</td>\n",
       "      <td>240.171</td>\n",
       "      <td>0.9570</td>\n",
       "      <td>3.0</td>\n",
       "      <td>5.0</td>\n",
       "      <td>3.000000</td>\n",
       "    </tr>\n",
       "    <tr>\n",
       "      <th>4</th>\n",
       "      <td>CHEMBL321393</td>\n",
       "      <td>CC(=O)Nc1c(OC(C)=O)cc(C(=O)O)cc1[N+](=O)[O-]</td>\n",
       "      <td>inactive</td>\n",
       "      <td>282.208</td>\n",
       "      <td>1.1767</td>\n",
       "      <td>2.0</td>\n",
       "      <td>6.0</td>\n",
       "      <td>2.301030</td>\n",
       "    </tr>\n",
       "    <tr>\n",
       "      <th>...</th>\n",
       "      <td>...</td>\n",
       "      <td>...</td>\n",
       "      <td>...</td>\n",
       "      <td>...</td>\n",
       "      <td>...</td>\n",
       "      <td>...</td>\n",
       "      <td>...</td>\n",
       "      <td>...</td>\n",
       "    </tr>\n",
       "    <tr>\n",
       "      <th>1585</th>\n",
       "      <td>CHEMBL4283912</td>\n",
       "      <td>COC(=O)C1=C[C@H](NC(=O)[C@]23CCC(C)(C)C[C@H]2C...</td>\n",
       "      <td>inactive</td>\n",
       "      <td>885.105</td>\n",
       "      <td>4.9915</td>\n",
       "      <td>4.0</td>\n",
       "      <td>13.0</td>\n",
       "      <td>4.809668</td>\n",
       "    </tr>\n",
       "    <tr>\n",
       "      <th>1586</th>\n",
       "      <td>CHEMBL4286184</td>\n",
       "      <td>C=C(C)[C@@H]1CC[C@]2(C(=O)N[C@H]3C=C(C(=O)OC)O...</td>\n",
       "      <td>inactive</td>\n",
       "      <td>869.106</td>\n",
       "      <td>5.8766</td>\n",
       "      <td>3.0</td>\n",
       "      <td>12.0</td>\n",
       "      <td>4.000000</td>\n",
       "    </tr>\n",
       "    <tr>\n",
       "      <th>1587</th>\n",
       "      <td>CHEMBL4294084</td>\n",
       "      <td>COC(=O)C1=C[C@H](NC(=O)[C@]23CCC(C)(C)C[C@H]2C...</td>\n",
       "      <td>inactive</td>\n",
       "      <td>758.994</td>\n",
       "      <td>3.2791</td>\n",
       "      <td>7.0</td>\n",
       "      <td>10.0</td>\n",
       "      <td>4.392545</td>\n",
       "    </tr>\n",
       "    <tr>\n",
       "      <th>1588</th>\n",
       "      <td>CHEMBL4282791</td>\n",
       "      <td>C=C(C)[C@@H]1CC[C@]2(C(=O)N[C@H]3C=C(C(=O)OC)O...</td>\n",
       "      <td>inactive</td>\n",
       "      <td>742.995</td>\n",
       "      <td>4.1642</td>\n",
       "      <td>6.0</td>\n",
       "      <td>9.0</td>\n",
       "      <td>4.000000</td>\n",
       "    </tr>\n",
       "    <tr>\n",
       "      <th>1590</th>\n",
       "      <td>CHEMBL4286137</td>\n",
       "      <td>C=C[C@@H](O)Cc1nsc(C2=CCCS[C@]23C(=O)Nc2ccccc2...</td>\n",
       "      <td>inactive</td>\n",
       "      <td>371.487</td>\n",
       "      <td>2.9954</td>\n",
       "      <td>2.0</td>\n",
       "      <td>6.0</td>\n",
       "      <td>4.477556</td>\n",
       "    </tr>\n",
       "  </tbody>\n",
       "</table>\n",
       "<p>1342 rows × 8 columns</p>\n",
       "</div>"
      ],
      "text/plain": [
       "     molecule_chembl_id                                   canonical_smiles  \\\n",
       "0          CHEMBL327097                    CC(=O)Nc1ccc(C(=O)O)cc1NC(=O)CO   \n",
       "1          CHEMBL327097                    CC(=O)Nc1ccc(C(=O)O)cc1NC(=O)CO   \n",
       "2          CHEMBL324455             CC(=O)Nc1c(O)cc(C(=O)O)cc1[N+](=O)[O-]   \n",
       "3          CHEMBL324455             CC(=O)Nc1c(O)cc(C(=O)O)cc1[N+](=O)[O-]   \n",
       "4          CHEMBL321393       CC(=O)Nc1c(OC(C)=O)cc(C(=O)O)cc1[N+](=O)[O-]   \n",
       "...                 ...                                                ...   \n",
       "1585      CHEMBL4283912  COC(=O)C1=C[C@H](NC(=O)[C@]23CCC(C)(C)C[C@H]2C...   \n",
       "1586      CHEMBL4286184  C=C(C)[C@@H]1CC[C@]2(C(=O)N[C@H]3C=C(C(=O)OC)O...   \n",
       "1587      CHEMBL4294084  COC(=O)C1=C[C@H](NC(=O)[C@]23CCC(C)(C)C[C@H]2C...   \n",
       "1588      CHEMBL4282791  C=C(C)[C@@H]1CC[C@]2(C(=O)N[C@H]3C=C(C(=O)OC)O...   \n",
       "1590      CHEMBL4286137  C=C[C@@H](O)Cc1nsc(C2=CCCS[C@]23C(=O)Nc2ccccc2...   \n",
       "\n",
       "     bioactivity_class       MW    LogP  NumHDonors  NumHAcceptors     pIC50  \n",
       "0             inactive  252.226  0.2740         4.0            4.0  2.397940  \n",
       "1             inactive  252.226  0.2740         4.0            4.0  2.000000  \n",
       "2             inactive  240.171  0.9570         3.0            5.0  3.124939  \n",
       "3             inactive  240.171  0.9570         3.0            5.0  3.000000  \n",
       "4             inactive  282.208  1.1767         2.0            6.0  2.301030  \n",
       "...                ...      ...     ...         ...            ...       ...  \n",
       "1585          inactive  885.105  4.9915         4.0           13.0  4.809668  \n",
       "1586          inactive  869.106  5.8766         3.0           12.0  4.000000  \n",
       "1587          inactive  758.994  3.2791         7.0           10.0  4.392545  \n",
       "1588          inactive  742.995  4.1642         6.0            9.0  4.000000  \n",
       "1590          inactive  371.487  2.9954         2.0            6.0  4.477556  \n",
       "\n",
       "[1342 rows x 8 columns]"
      ]
     },
     "execution_count": 13,
     "metadata": {},
     "output_type": "execute_result"
    }
   ],
   "source": [
    "df_2class = df_final[df_final.bioactivity_class != 'intermediate']\n",
    "df_2class"
   ]
  },
  {
   "cell_type": "markdown",
   "metadata": {},
   "source": [
    "## Exploratory Data Analysis (Chemical Space Analysis) via Lipinski Descriptors\n",
    "### Import libraries"
   ]
  },
  {
   "cell_type": "code",
   "execution_count": 14,
   "metadata": {},
   "outputs": [],
   "source": [
    "import seaborn as sns\n",
    "sns.set(style='ticks')\n",
    "import matplotlib.pyplot as plt"
   ]
  },
  {
   "cell_type": "markdown",
   "metadata": {},
   "source": [
    "### Frequency plot of the 2 bioactivity classes"
   ]
  },
  {
   "cell_type": "code",
   "execution_count": 15,
   "metadata": {},
   "outputs": [
    {
     "data": {
      "image/png": "[encoded data removed]",
      "text/plain": [
       "<Figure size 432x432 with 1 Axes>"
      ]
     },
     "metadata": {},
     "output_type": "display_data"
    }
   ],
   "source": [
    "plt.figure(figsize=(6, 6))\n",
    "\n",
    "sns.countplot(x='bioactivity_class', data=df_2class, edgecolor='black')\n",
    "\n",
    "plt.xlabel('Bioactivity Class', fontsize=14, fontweight='bold')\n",
    "plt.ylabel('Frequency', fontsize=14, fontweight='bold')\n",
    "\n",
    "plt.savefig('plot_bioactivity_class.pdf')"
   ]
  },
  {
   "cell_type": "markdown",
   "metadata": {},
   "source": [
    "### Scatter plot of MW vs. LogP"
   ]
  },
  {
   "cell_type": "code",
   "execution_count": 16,
   "metadata": {},
   "outputs": [
    {
     "data": {
      "image/png": "[encoded data removed]",
      "text/plain": [
       "<Figure size 432x432 with 1 Axes>"
      ]
     },
     "metadata": {},
     "output_type": "display_data"
    }
   ],
   "source": [
    "plt.figure(figsize=(6, 6))\n",
    "\n",
    "sns.scatterplot(x='MW', y='LogP', data=df_2class, hue='bioactivity_class', size='pIC50', edgecolor='black', alpha=0.7)\n",
    "\n",
    "plt.xlabel('MW', fontsize=14, fontweight='bold')\n",
    "plt.ylabel('LogP', fontsize=14, fontweight='bold')\n",
    "plt.legend(bbox_to_anchor=(1.05, 1), loc=2, borderaxespad=0)\n",
    "plt.savefig('plot_MW_vs_LogP.pdf')"
   ]
  },
  {
   "cell_type": "markdown",
   "metadata": {},
   "source": [
    "### Box plots\n",
    "#### pIC50 value"
   ]
  },
  {
   "cell_type": "code",
   "execution_count": 17,
   "metadata": {},
   "outputs": [
    {
     "data": {
      "image/png": "[encoded data removed]",
      "text/plain": [
       "<Figure size 432x432 with 1 Axes>"
      ]
     },
     "metadata": {},
     "output_type": "display_data"
    }
   ],
   "source": [
    "plt.figure(figsize=(6, 6))\n",
    "\n",
    "sns.boxplot(x='bioactivity_class', y='pIC50', data=df_2class)\n",
    "\n",
    "plt.xlabel('Bioactivity Class', fontsize=14, fontweight='bold')\n",
    "plt.ylabel('pIC50 Value', fontsize=14, fontweight='bold')\n",
    "\n",
    "plt.savefig('plot_ic50.pdf')"
   ]
  },
  {
   "cell_type": "markdown",
   "metadata": {},
   "source": [
    "#### Statistical analysis | Mann-Whitney U Test"
   ]
  },
  {
   "cell_type": "code",
   "execution_count": 18,
   "metadata": {},
   "outputs": [],
   "source": [
    "from numpy.random import seed\n",
    "from numpy.random import randn\n",
    "from scipy.stats import mannwhitneyu\n",
    "\n",
    "# https://machinelearningmastery.com/nonparametric-statistical-significance-tests-in-python/\n",
    "def mannwhitney(descriptor, verbose=False):\n",
    "    # Seed random number generator\n",
    "    seed(1)\n",
    "    \n",
    "    # Actives and inactives\n",
    "    selection = [descriptor, 'bioactivity_class']\n",
    "    df = df_2class[selection]\n",
    "    active = df[df.bioactivity_class == 'active']\n",
    "    active = active[descriptor]\n",
    "    \n",
    "    selection = [descriptor, 'bioactivity_class']\n",
    "    df = df_2class[selection]\n",
    "    inactive = df[df.bioactivity_class == 'inactive']\n",
    "    inactive = inactive[descriptor]\n",
    "    \n",
    "    # Compare samples\n",
    "    stat, p = mannwhitneyu(active, inactive)\n",
    "    \n",
    "    # Interpret\n",
    "    alpha = 0.05\n",
    "    if p > alpha:\n",
    "        interpretation = 'Same distribution (fail to reject H0)'\n",
    "    else:\n",
    "        interpretation = 'Different distribution (reject H0)'\n",
    "        \n",
    "    results = pd.DataFrame({'Descriptor': descriptor,\n",
    "                           'Statistics': stat,\n",
    "                           'p': p,\n",
    "                           'alpha': alpha,\n",
    "                           'Interpretation': interpretation}, index=[0])\n",
    "    filename = 'mannwhitneyu_' + descriptor + '.csv'\n",
    "    results.to_csv(filename)\n",
    "    \n",
    "    return results"
   ]
  },
  {
   "cell_type": "code",
   "execution_count": 19,
   "metadata": {},
   "outputs": [
    {
     "data": {
      "text/html": [
       "<div>\n",
       "<style scoped>\n",
       "    .dataframe tbody tr th:only-of-type {\n",
       "        vertical-align: middle;\n",
       "    }\n",
       "\n",
       "    .dataframe tbody tr th {\n",
       "        vertical-align: top;\n",
       "    }\n",
       "\n",
       "    .dataframe thead th {\n",
       "        text-align: right;\n",
       "    }\n",
       "</style>\n",
       "<table border=\"1\" class=\"dataframe\">\n",
       "  <thead>\n",
       "    <tr style=\"text-align: right;\">\n",
       "      <th></th>\n",
       "      <th>Descriptor</th>\n",
       "      <th>Statistics</th>\n",
       "      <th>p</th>\n",
       "      <th>alpha</th>\n",
       "      <th>Interpretation</th>\n",
       "    </tr>\n",
       "  </thead>\n",
       "  <tbody>\n",
       "    <tr>\n",
       "      <th>0</th>\n",
       "      <td>pIC50</td>\n",
       "      <td>0.0</td>\n",
       "      <td>1.075664e-210</td>\n",
       "      <td>0.05</td>\n",
       "      <td>Different distribution (reject H0)</td>\n",
       "    </tr>\n",
       "  </tbody>\n",
       "</table>\n",
       "</div>"
      ],
      "text/plain": [
       "  Descriptor  Statistics              p  alpha  \\\n",
       "0      pIC50         0.0  1.075664e-210   0.05   \n",
       "\n",
       "                       Interpretation  \n",
       "0  Different distribution (reject H0)  "
      ]
     },
     "execution_count": 19,
     "metadata": {},
     "output_type": "execute_result"
    }
   ],
   "source": [
    "mannwhitney('pIC50')"
   ]
  },
  {
   "cell_type": "markdown",
   "metadata": {},
   "source": [
    "#### MW"
   ]
  },
  {
   "cell_type": "code",
   "execution_count": 20,
   "metadata": {},
   "outputs": [
    {
     "data": {
      "image/png": "[encoded data removed]",
      "text/plain": [
       "<Figure size 432x432 with 1 Axes>"
      ]
     },
     "metadata": {},
     "output_type": "display_data"
    }
   ],
   "source": [
    "plt.figure(figsize=(6, 6))\n",
    "\n",
    "sns.boxplot(x='bioactivity_class', y='MW', data=df_2class)\n",
    "\n",
    "plt.xlabel('Bioactivity Class', fontsize=14, fontweight='bold')\n",
    "plt.ylabel('MW', fontsize=14, fontweight='bold')\n",
    "\n",
    "plt.savefig('plot_MW.pdf')"
   ]
  },
  {
   "cell_type": "code",
   "execution_count": 21,
   "metadata": {},
   "outputs": [
    {
     "data": {
      "text/html": [
       "<div>\n",
       "<style scoped>\n",
       "    .dataframe tbody tr th:only-of-type {\n",
       "        vertical-align: middle;\n",
       "    }\n",
       "\n",
       "    .dataframe tbody tr th {\n",
       "        vertical-align: top;\n",
       "    }\n",
       "\n",
       "    .dataframe thead th {\n",
       "        text-align: right;\n",
       "    }\n",
       "</style>\n",
       "<table border=\"1\" class=\"dataframe\">\n",
       "  <thead>\n",
       "    <tr style=\"text-align: right;\">\n",
       "      <th></th>\n",
       "      <th>Descriptor</th>\n",
       "      <th>Statistics</th>\n",
       "      <th>p</th>\n",
       "      <th>alpha</th>\n",
       "      <th>Interpretation</th>\n",
       "    </tr>\n",
       "  </thead>\n",
       "  <tbody>\n",
       "    <tr>\n",
       "      <th>0</th>\n",
       "      <td>MW</td>\n",
       "      <td>204518.0</td>\n",
       "      <td>0.075448</td>\n",
       "      <td>0.05</td>\n",
       "      <td>Same distribution (fail to reject H0)</td>\n",
       "    </tr>\n",
       "  </tbody>\n",
       "</table>\n",
       "</div>"
      ],
      "text/plain": [
       "  Descriptor  Statistics         p  alpha  \\\n",
       "0         MW    204518.0  0.075448   0.05   \n",
       "\n",
       "                          Interpretation  \n",
       "0  Same distribution (fail to reject H0)  "
      ]
     },
     "execution_count": 21,
     "metadata": {},
     "output_type": "execute_result"
    }
   ],
   "source": [
    "mannwhitney('MW')"
   ]
  },
  {
   "cell_type": "markdown",
   "metadata": {},
   "source": [
    "#### LogP"
   ]
  },
  {
   "cell_type": "code",
   "execution_count": 22,
   "metadata": {},
   "outputs": [
    {
     "data": {
      "image/png": "[encoded data removed]",
      "text/plain": [
       "<Figure size 432x432 with 1 Axes>"
      ]
     },
     "metadata": {},
     "output_type": "display_data"
    }
   ],
   "source": [
    "plt.figure(figsize=(6, 6))\n",
    "\n",
    "sns.boxplot(x='bioactivity_class', y='LogP', data=df_2class)\n",
    "\n",
    "plt.xlabel('Bioactivity Class', fontsize=14, fontweight='bold')\n",
    "plt.ylabel('LogP', fontsize=14, fontweight='bold')\n",
    "\n",
    "plt.savefig('plot_LogP.pdf')"
   ]
  },
  {
   "cell_type": "code",
   "execution_count": 23,
   "metadata": {},
   "outputs": [
    {
     "data": {
      "text/html": [
       "<div>\n",
       "<style scoped>\n",
       "    .dataframe tbody tr th:only-of-type {\n",
       "        vertical-align: middle;\n",
       "    }\n",
       "\n",
       "    .dataframe tbody tr th {\n",
       "        vertical-align: top;\n",
       "    }\n",
       "\n",
       "    .dataframe thead th {\n",
       "        text-align: right;\n",
       "    }\n",
       "</style>\n",
       "<table border=\"1\" class=\"dataframe\">\n",
       "  <thead>\n",
       "    <tr style=\"text-align: right;\">\n",
       "      <th></th>\n",
       "      <th>Descriptor</th>\n",
       "      <th>Statistics</th>\n",
       "      <th>p</th>\n",
       "      <th>alpha</th>\n",
       "      <th>Interpretation</th>\n",
       "    </tr>\n",
       "  </thead>\n",
       "  <tbody>\n",
       "    <tr>\n",
       "      <th>0</th>\n",
       "      <td>LogP</td>\n",
       "      <td>160438.0</td>\n",
       "      <td>3.008657e-15</td>\n",
       "      <td>0.05</td>\n",
       "      <td>Different distribution (reject H0)</td>\n",
       "    </tr>\n",
       "  </tbody>\n",
       "</table>\n",
       "</div>"
      ],
      "text/plain": [
       "  Descriptor  Statistics             p  alpha  \\\n",
       "0       LogP    160438.0  3.008657e-15   0.05   \n",
       "\n",
       "                       Interpretation  \n",
       "0  Different distribution (reject H0)  "
      ]
     },
     "execution_count": 23,
     "metadata": {},
     "output_type": "execute_result"
    }
   ],
   "source": [
    "mannwhitney('LogP')"
   ]
  },
  {
   "cell_type": "markdown",
   "metadata": {},
   "source": [
    "#### NumHDonors"
   ]
  },
  {
   "cell_type": "code",
   "execution_count": 24,
   "metadata": {},
   "outputs": [
    {
     "data": {
      "image/png": "[encoded data removed]",
      "text/plain": [
       "<Figure size 432x432 with 1 Axes>"
      ]
     },
     "metadata": {},
     "output_type": "display_data"
    }
   ],
   "source": [
    "plt.figure(figsize=(6, 6))\n",
    "\n",
    "sns.boxplot(x='bioactivity_class', y='NumHDonors', data=df_2class)\n",
    "\n",
    "plt.xlabel('Bioactivity Class', fontsize=14, fontweight='bold')\n",
    "plt.ylabel('NumHDonors', fontsize=14, fontweight='bold')\n",
    "\n",
    "plt.savefig('plot_NumHDonors.pdf')"
   ]
  },
  {
   "cell_type": "code",
   "execution_count": 25,
   "metadata": {},
   "outputs": [
    {
     "data": {
      "text/html": [
       "<div>\n",
       "<style scoped>\n",
       "    .dataframe tbody tr th:only-of-type {\n",
       "        vertical-align: middle;\n",
       "    }\n",
       "\n",
       "    .dataframe tbody tr th {\n",
       "        vertical-align: top;\n",
       "    }\n",
       "\n",
       "    .dataframe thead th {\n",
       "        text-align: right;\n",
       "    }\n",
       "</style>\n",
       "<table border=\"1\" class=\"dataframe\">\n",
       "  <thead>\n",
       "    <tr style=\"text-align: right;\">\n",
       "      <th></th>\n",
       "      <th>Descriptor</th>\n",
       "      <th>Statistics</th>\n",
       "      <th>p</th>\n",
       "      <th>alpha</th>\n",
       "      <th>Interpretation</th>\n",
       "    </tr>\n",
       "  </thead>\n",
       "  <tbody>\n",
       "    <tr>\n",
       "      <th>0</th>\n",
       "      <td>NumHDonors</td>\n",
       "      <td>170798.0</td>\n",
       "      <td>1.013245e-10</td>\n",
       "      <td>0.05</td>\n",
       "      <td>Different distribution (reject H0)</td>\n",
       "    </tr>\n",
       "  </tbody>\n",
       "</table>\n",
       "</div>"
      ],
      "text/plain": [
       "   Descriptor  Statistics             p  alpha  \\\n",
       "0  NumHDonors    170798.0  1.013245e-10   0.05   \n",
       "\n",
       "                       Interpretation  \n",
       "0  Different distribution (reject H0)  "
      ]
     },
     "execution_count": 25,
     "metadata": {},
     "output_type": "execute_result"
    }
   ],
   "source": [
    "mannwhitney('NumHDonors')"
   ]
  },
  {
   "cell_type": "markdown",
   "metadata": {},
   "source": [
    "#### NumHAcceptors"
   ]
  },
  {
   "cell_type": "code",
   "execution_count": 26,
   "metadata": {},
   "outputs": [
    {
     "data": {
      "image/png": "[encoded data removed]",
      "text/plain": [
       "<Figure size 432x432 with 1 Axes>"
      ]
     },
     "metadata": {},
     "output_type": "display_data"
    }
   ],
   "source": [
    "plt.figure(figsize=(6, 6))\n",
    "\n",
    "sns.boxplot(x='bioactivity_class', y='NumHAcceptors', data=df_2class)\n",
    "\n",
    "plt.xlabel('Bioactivity Class', fontsize=14, fontweight='bold')\n",
    "plt.ylabel('NumHAcceptors', fontsize=14, fontweight='bold')\n",
    "\n",
    "plt.savefig('plot_NumHAcceptors.pdf')"
   ]
  },
  {
   "cell_type": "code",
   "execution_count": 27,
   "metadata": {},
   "outputs": [
    {
     "data": {
      "text/html": [
       "<div>\n",
       "<style scoped>\n",
       "    .dataframe tbody tr th:only-of-type {\n",
       "        vertical-align: middle;\n",
       "    }\n",
       "\n",
       "    .dataframe tbody tr th {\n",
       "        vertical-align: top;\n",
       "    }\n",
       "\n",
       "    .dataframe thead th {\n",
       "        text-align: right;\n",
       "    }\n",
       "</style>\n",
       "<table border=\"1\" class=\"dataframe\">\n",
       "  <thead>\n",
       "    <tr style=\"text-align: right;\">\n",
       "      <th></th>\n",
       "      <th>Descriptor</th>\n",
       "      <th>Statistics</th>\n",
       "      <th>p</th>\n",
       "      <th>alpha</th>\n",
       "      <th>Interpretation</th>\n",
       "    </tr>\n",
       "  </thead>\n",
       "  <tbody>\n",
       "    <tr>\n",
       "      <th>0</th>\n",
       "      <td>NumHAcceptors</td>\n",
       "      <td>210322.0</td>\n",
       "      <td>0.273249</td>\n",
       "      <td>0.05</td>\n",
       "      <td>Same distribution (fail to reject H0)</td>\n",
       "    </tr>\n",
       "  </tbody>\n",
       "</table>\n",
       "</div>"
      ],
      "text/plain": [
       "      Descriptor  Statistics         p  alpha  \\\n",
       "0  NumHAcceptors    210322.0  0.273249   0.05   \n",
       "\n",
       "                          Interpretation  \n",
       "0  Same distribution (fail to reject H0)  "
      ]
     },
     "execution_count": 27,
     "metadata": {},
     "output_type": "execute_result"
    }
   ],
   "source": [
    "mannwhitney('NumHAcceptors')"
   ]
  },
  {
   "cell_type": "markdown",
   "metadata": {},
   "source": [
    "#### Interpretation of Statistical Results\n",
    "##### pIC50 values\n",
    "Regarding pIC50 values, the actives and inactives displayed a **statistically significant difference**, which is to be expected because threshold values (IC50 < 1,000 nM = Actives and IC50 > 10,000 nM = Inactives) were used to define actives and inactives.\n",
    "##### Lipinski's descriptors\n",
    "Of the 4 Lipinski's descriptors (MW, LogP, NumHDonors, and NumHAcceptors), MW and NumHAcceptors exhibit **no difference** between the actives and inactives, while LogP and NumHDonors exhibit a **statistically significant difference** between the actives and inactives."
   ]
  },
  {
   "cell_type": "code",
   "execution_count": null,
   "metadata": {},
   "outputs": [],
   "source": []
  }
 ],
 "metadata": {
  "kernelspec": {
   "display_name": "Python 3",
   "language": "python",
   "name": "python3"
  },
  "language_info": {
   "codemirror_mode": {
    "name": "ipython",
    "version": 3
   },
   "file_extension": ".py",
   "mimetype": "text/x-python",
   "name": "python",
   "nbconvert_exporter": "python",
   "pygments_lexer": "ipython3",
   "version": "3.7.6"
  }
 },
 "nbformat": 4,
 "nbformat_minor": 4
}
